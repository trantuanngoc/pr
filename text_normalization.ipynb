{
  "cells": [
    {
      "cell_type": "code",
      "execution_count": null,
      "metadata": {
        "colab": {
          "base_uri": "https://localhost:8080/"
        },
        "id": "7wFTNONxp_1p",
        "outputId": "96e8d4bc-207f-4998-c2b2-4428c244c184"
      },
      "outputs": [
        {
          "name": "stdout",
          "output_type": "stream",
          "text": [
            "Cloning into 'VietnameseTextNormalizer'...\n",
            "remote: Enumerating objects: 1024, done.\u001b[K\n",
            "remote: Counting objects: 100% (6/6), done.\u001b[K\n",
            "remote: Compressing objects: 100% (2/2), done.\u001b[K\n",
            "remote: Total 1024 (delta 5), reused 4 (delta 4), pack-reused 1018\u001b[K\n",
            "Receiving objects: 100% (1024/1024), 152.04 MiB | 14.34 MiB/s, done.\n",
            "Resolving deltas: 100% (559/559), done.\n"
          ]
        }
      ],
      "source": [
        "!git clone https://github.com/langmaninternet/VietnameseTextNormalizer.git"
      ]
    },
    {
      "cell_type": "code",
      "execution_count": null,
      "metadata": {
        "colab": {
          "base_uri": "https://localhost:8080/"
        },
        "id": "If8dO08-qFqx",
        "outputId": "dcb62c2a-9523-47c5-8641-0ddbea640530"
      },
      "outputs": [],
      "source": [
        "%cd VietnameseTextNormalizer/"
      ]
    },
    {
      "cell_type": "code",
      "execution_count": null,
      "metadata": {
        "colab": {
          "base_uri": "https://localhost:8080/"
        },
        "id": "H2cq698jqIMB",
        "outputId": "0a58eac2-15c7-4540-fab3-7008eed4897a"
      },
      "outputs": [
        {
          "name": "stdout",
          "output_type": "stream",
          "text": [
            "env: PYTHON3_DEV_INCULE=/usr/include/python3.7\n",
            "env: GPP_COMPILER=g++\n"
          ]
        }
      ],
      "source": [
        "%env PYTHON3_DEV_INCULE=/usr/include/python3.7\n",
        "%env GPP_COMPILER=g++\n",
        "%cp -f MakefilePython3 Makefile"
      ]
    },
    {
      "cell_type": "code",
      "execution_count": null,
      "metadata": {
        "colab": {
          "base_uri": "https://localhost:8080/"
        },
        "id": "URGKuyO5qKJR",
        "outputId": "c6d8df5f-cfd5-40ed-d711-1ece656a0e11"
      },
      "outputs": [
        {
          "name": "stdout",
          "output_type": "stream",
          "text": [
            "$GPP_COMPILER -static -c -fPIC -O3 -Wall SyllableSystem.cpp -I$PYTHON3_DEV_INCULE -o ObjectPython3/SyllableSystem.o ;\n",
            "$GPP_COMPILER -static -c -fPIC -O3 -Wall ContextSystem.cpp -I$PYTHON3_DEV_INCULE -o ObjectPython3/ContextSystem.o ;\n",
            "$GPP_COMPILER -static -c -fPIC -O3 -Wall WordSystem.cpp -I$PYTHON3_DEV_INCULE -o ObjectPython3/WordSystem.o ;\n",
            "$GPP_COMPILER -static -c -fPIC -O3 -Wall main.cpp -I$PYTHON3_DEV_INCULE -o ObjectPython3/main.o ;\n",
            "\u001b[01m\u001b[Kmain.cpp:\u001b[m\u001b[K In function ‘\u001b[01m\u001b[KPyObject* GetFirstTone(PyObject*, PyObject*)\u001b[m\u001b[K’:\n",
            "\u001b[01m\u001b[Kmain.cpp:1230:29:\u001b[m\u001b[K \u001b[01;35m\u001b[Kwarning: \u001b[m\u001b[Kassuming signed overflow does not occur when assuming that (X + c) >= X is always true [\u001b[01;35m\u001b[K-Wstrict-overflow\u001b[m\u001b[K]\n",
            "   for (int iChar = 0; \u001b[01;35m\u001b[KiChar < unicodeStringLength\u001b[m\u001b[K; iChar++)\n",
            "                       \u001b[01;35m\u001b[K~~~~~~^~~~~~~~~~~~~~~~~~~~~\u001b[m\u001b[K\n",
            "$GPP_COMPILER -shared -o ReleasePython3/VietnameseTextNormalizer.so  ObjectPython3/VietnameseTextNormalizer.o  ObjectPython3/SyllableSystem.o  ObjectPython3/ContextSystem.o  ObjectPython3/WordSystem.o  ObjectPython3/main.o -L. ; \\\n",
            "cp -f UnitTestVietnameseTextNormalizer.py ReleasePython3/ ; \\\n",
            "cd ReleasePython3 ; \\\n",
            "echo \"Build Release Python3 Done\" ; \\\n",
            "echo \"Test Python3 - VietnameseTextNormalizer \" ; \\\n",
            "python3 UnitTestVietnameseTextNormalizer.py ; \n",
            "Build Release Python3 Done\n",
            "Test Python3 - VietnameseTextNormalizer \n",
            "Init Vietnamese Text Normalizer version 1.9.4\n",
            "\tBùi Tấn Quang - langmaninternet@gmail.com\n",
            "Normalization : 3 change(s) - Utf8 mode\n",
            "UCS2 : Tôi làm việc ở ban công nghệ FPT, tôi là người viêt nam. hôm nay tôi không thích ăn mì tôm. tôi làm đc 2 bài tập.\n",
            "<class 'str'>\n",
            " UTF8 : t là sinh viên\n",
            "<class 'str'>\n"
          ]
        }
      ],
      "source": [
        "!make -j"
      ]
    },
    {
      "cell_type": "code",
      "execution_count": null,
      "metadata": {
        "colab": {
          "base_uri": "https://localhost:8080/"
        },
        "id": "JqYMSVLsqNAh",
        "outputId": "222cc844-4c58-4f81-9b90-99f11e21cd22"
      },
      "outputs": [
        {
          "name": "stdout",
          "output_type": "stream",
          "text": [
            "Init Vietnamese Text Normalizer version 1.9.4\n",
            "\tBùi Tấn Quang - langmaninternet@gmail.com\n",
            "Normalization : 3 change(s) - Utf8 mode\n",
            "UCS2 : Tôi làm việc ở ban công nghệ FPT, tôi là người viêt nam. hôm nay tôi không thích ăn mì tôm. tôi làm đc 2 bài tập.\n",
            "<class 'str'>\n",
            " UTF8 : t là sinh viên\n",
            "<class 'str'>\n"
          ]
        }
      ],
      "source": [
        "!python UnitTestVietnameseTextNormalizer.py "
      ]
    },
    {
      "cell_type": "code",
      "execution_count": null,
      "metadata": {
        "colab": {
          "base_uri": "https://localhost:8080/"
        },
        "id": "cICULZJ7rwvH",
        "outputId": "70e552a1-6c4e-4cf3-e701-da4cdf9e92d3"
      },
      "outputs": [
        {
          "name": "stdout",
          "output_type": "stream",
          "text": [
            "UCS2 : Tôi làm việc ở ban công nghệ FPT, tôi là người viêt nam. hôm nay tôi không thích ăn mì tôm. tôi làm đc 2 bài tập.\n",
            " UTF8 : Tôi làm việc ở ban công nghệ FPT, tôi là người viêt nam. hôm nay tôi không thích ăn mì tôm. tôi làm đc 2 bài tập.\n"
          ]
        }
      ],
      "source": [
        "# -*- coding: utf-8 -*-\n",
        "import VietnameseTextNormalizer\n",
        "a=VietnameseTextNormalizer.Normalize(u\"UCS2 : Tôi làm việ ở ban công ngệ FPT, tôi là người viêt nam. hôm nay tôi ko thích ăn mì tôm. tôi làm đc 2 bài tập.\");\n",
        "print (a)\n",
        "\n",
        "\n",
        "a=VietnameseTextNormalizer.Normalize(\" UTF8 : Tôi làm việ ở ban công ngệ FPT, tôi là người viêt nam. hôm nay tôi ko thích ăn mì tôm. tôi làm đc 2 bài tập.\");\n",
        "print (a)\n"
      ]
    }
  ],
  "metadata": {
    "accelerator": "GPU",
    "colab": {
      "name": "Untitled0.ipynb",
      "provenance": []
    },
    "kernelspec": {
      "display_name": "Python 3",
      "name": "python3"
    },
    "language_info": {
      "name": "python"
    }
  },
  "nbformat": 4,
  "nbformat_minor": 0
}
